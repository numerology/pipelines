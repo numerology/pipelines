{
 "cells": [
  {
   "cell_type": "markdown",
   "metadata": {},
   "source": [
    "# GCP Dataflow Component Sample\n",
    "A Kubeflow Pipeline component that prepares data by submitting an Apache Beam job (authored in Python) to Cloud Dataflow for execution. The Python Beam code is run with Cloud Dataflow Runner.\n",
    "\n",
    "## Intended use\n",
    "\n",
    "Use this component to run a Python Beam code to submit a Cloud Dataflow job as a step of a Kubeflow pipeline. \n",
    "\n",
    "## Runtime arguments\n",
    "Name | Description | Optional |  Data type| Accepted values | Default |\n",
    ":--- | :----------| :----------| :----------| :----------| :---------- |\n",
    "python_file_path |  The path to the Cloud Storage bucket or local directory containing the Python file to be run. |  |  GCSPath |  |  |\n",
    "project_id |  The ID of the Google Cloud Platform (GCP) project  containing the Cloud Dataflow job.| | GCPProjectID | | |\n",
    "staging_dir  |   The path to the Cloud Storage directory where the staging files are stored. A random subdirectory will be created under the staging directory to keep the  job information.This is done so that you can resume the job in case of failure. `staging_dir` is passed as the command line arguments (`staging_location` and `temp_location`) of the Beam code. |   Yes  |   GCSPath  |   |   None  |\n",
    "requirements_file_path |   The path to the Cloud Storage bucket or local directory containing the pip requirements file. | Yes | GCSPath |  | None |\n",
    "args |  The list of arguments to pass to the Python file. | No |  List | A list of string arguments | None |\n",
    "wait_interval |  The number of seconds to wait between calls to get the status of the job. | Yes | Integer  |  | 30 |\n",
    "\n",
    "## Input data schema\n",
    "\n",
    "Before you use the component, the following files must be ready in a Cloud Storage bucket:\n",
    "- A Beam Python code file.\n",
    "- A  `requirements.txt` file which includes a list of dependent packages.\n",
    "\n",
    "The Beam Python code should follow the [Beam programming guide](https://beam.apache.org/documentation/programming-guide/) as well as the following additional requirements to be compatible with this component:\n",
    "- It accepts the command line arguments `--project`, `--temp_location`, `--staging_location`, which are [standard Dataflow Runner options](https://cloud.google.com/dataflow/docs/guides/specifying-exec-params#setting-other-cloud-pipeline-options).\n",
    "- It enables `info logging` before the start of a Cloud Dataflow job in the Python code. This is important to allow the component to track the status and ID of the job that is created. For example, calling `logging.getLogger().setLevel(logging.INFO)` before any other code.\n",
    "\n",
    "\n",
    "## Output\n",
    "Name | Description\n",
    ":--- | :----------\n",
    "job_id | The id of the Cloud Dataflow job that is created.\n",
    "\n",
    "## Cautions & requirements\n",
    "To use the components, the following requirements must be met:\n",
    "- Cloud Dataflow API is enabled.\n",
    "- The component is running under a secret Kubeflow user service account in a Kubeflow Pipeline cluster.  For example:\n",
    "```\n",
    "component_op(...)\n",
    "```\n",
    "The Kubeflow user service account is a member of:\n",
    "- `roles/dataflow.developer` role of the project.\n",
    "- `roles/storage.objectViewer` role of the Cloud Storage Objects `python_file_path` and `requirements_file_path`.\n",
    "- `roles/storage.objectCreator` role of the Cloud Storage Object `staging_dir`. \n",
    "\n",
    "## Detailed description\n",
    "The component does several things during the execution:\n",
    "- Downloads `python_file_path` and `requirements_file_path` to local files.\n",
    "- Starts a subprocess to launch the Python program.\n",
    "- Monitors the logs produced from the subprocess to extract the Cloud Dataflow job information.\n",
    "- Stores the Cloud Dataflow job information in `staging_dir` so the job can be resumed in case of failure.\n",
    "- Waits for the job to finish.\n",
    "\n",
    "# Setup"
   ]
  },
  {
   "cell_type": "code",
   "execution_count": 1,
   "metadata": {
    "pycharm": {
     "name": "#%%\n"
    },
    "tags": [
     "parameters"
    ]
   },
   "outputs": [],
   "source": [
    "project = 'jxzheng-helloworld'\n",
    "output = 'gs://jxzheng-helloworld' # No ending slash\n"
   ]
  },
  {
   "cell_type": "markdown",
   "metadata": {
    "pycharm": {
     "name": "#%% md\n"
    }
   },
   "source": [
    "## Install Pipeline SDK"
   ]
  },
  {
   "cell_type": "code",
   "execution_count": 2,
   "metadata": {},
   "outputs": [],
   "source": [
    "!python3 -m pip install 'kfp>=0.1.31' --quiet\n"
   ]
  },
  {
   "cell_type": "markdown",
   "metadata": {
    "pycharm": {
     "name": "#%%\n"
    }
   },
   "source": [
    "\n",
    "## Load the component using KFP SDK\n"
   ]
  },
  {
   "cell_type": "code",
   "execution_count": 3,
   "metadata": {
    "pycharm": {
     "name": "#%%\n"
    }
   },
   "outputs": [
    {
     "name": "stdout",
     "output_type": "stream",
     "text": [
      "Help on function Launch Python:\n",
      "\n",
      "Launch Python(python_file_path: str, project_id: 'GCPProjectID', staging_dir: 'GCSPath' = '', requirements_file_path: 'GCSPath' = '', args: list = '[]', wait_interval: int = '30')\n",
      "    Launch Python\n",
      "    Launch a self-executing beam python file.\n",
      "\n"
     ]
    }
   ],
   "source": [
    "import kfp.components as comp\n",
    "\n",
    "dataflow_python_op = comp.load_component_from_url(\n",
    "    'https://raw.githubusercontent.com/kubeflow/pipelines/72e1214abe2bde2e10a0f44d16b162db1a623c63/components/gcp/dataflow/launch_python/component.yaml')\n",
    "help(dataflow_python_op)"
   ]
  },
  {
   "cell_type": "markdown",
   "metadata": {},
   "source": [
    "## Use the wordcount python sample\n",
    "In this sample, we run a wordcount sample code in a Kubeflow Pipeline. The output will be stored in a Cloud Storage bucket. Here is the sample code:"
   ]
  },
  {
   "cell_type": "code",
   "execution_count": 4,
   "metadata": {},
   "outputs": [
    {
     "name": "stdout",
     "output_type": "stream",
     "text": [
      "\n",
      "\n",
      "Updates are available for some Cloud SDK components.  To install them,\n",
      "please run:\n",
      "  $ gcloud components update\n",
      "\n",
      "#\n",
      "# Licensed to the Apache Software Foundation (ASF) under one or more\n",
      "# contributor license agreements.  See the NOTICE file distributed with\n",
      "# this work for additional information regarding copyright ownership.\n",
      "# The ASF licenses this file to You under the Apache License, Version 2.0\n",
      "# (the \"License\"); you may not use this file except in compliance with\n",
      "# the License.  You may obtain a copy of the License at\n",
      "#\n",
      "#    http://www.apache.org/licenses/LICENSE-2.0\n",
      "#\n",
      "# Unless required by applicable law or agreed to in writing, software\n",
      "# distributed under the License is distributed on an \"AS IS\" BASIS,\n",
      "# WITHOUT WARRANTIES OR CONDITIONS OF ANY KIND, either express or implied.\n",
      "# See the License for the specific language governing permissions and\n",
      "# limitations under the License.\n",
      "#\n",
      "\n",
      "\"\"\"A minimalist word-counting workflow that counts words in Shakespeare.\n",
      "\n",
      "This is the first in a series of successively more detailed 'word count'\n",
      "examples.\n",
      "\n",
      "Next, see the wordcount pipeline, then the wordcount_debugging pipeline, for\n",
      "more detailed examples that introduce additional concepts.\n",
      "\n",
      "Concepts:\n",
      "\n",
      "1. Reading data from text files\n",
      "2. Specifying 'inline' transforms\n",
      "3. Counting a PCollection\n",
      "4. Writing data to Cloud Storage as text files\n",
      "\n",
      "To execute this pipeline locally, first edit the code to specify the output\n",
      "location. Output location could be a local file path or an output prefix\n",
      "on GCS. (Only update the output location marked with the first CHANGE comment.)\n",
      "\n",
      "To execute this pipeline remotely, first edit the code to set your project ID,\n",
      "runner type, the staging location, the temp location, and the output location.\n",
      "The specified GCS bucket(s) must already exist. (Update all the places marked\n",
      "with a CHANGE comment.)\n",
      "\n",
      "Then, run the pipeline as described in the README. It will be deployed and run\n",
      "using the Google Cloud Dataflow Service. No args are required to run the\n",
      "pipeline. You can see the results in your output bucket in the GCS browser.\n",
      "\"\"\"\n",
      "\n",
      "from __future__ import absolute_import\n",
      "\n",
      "import argparse\n",
      "import logging\n",
      "import re\n",
      "\n",
      "from past.builtins import unicode\n",
      "\n",
      "import apache_beam as beam\n",
      "from apache_beam.io import ReadFromText\n",
      "from apache_beam.io import WriteToText\n",
      "from apache_beam.options.pipeline_options import PipelineOptions\n",
      "from apache_beam.options.pipeline_options import SetupOptions\n",
      "\n",
      "\n",
      "def run(argv=None):\n",
      "  \"\"\"Main entry point; defines and runs the wordcount pipeline.\"\"\"\n",
      "\n",
      "  parser = argparse.ArgumentParser()\n",
      "  parser.add_argument('--input',\n",
      "                      dest='input',\n",
      "                      default='gs://dataflow-samples/shakespeare/kinglear.txt',\n",
      "                      help='Input file to process.')\n",
      "  parser.add_argument('--output',\n",
      "                      dest='output',\n",
      "                      # CHANGE 1/5: The Google Cloud Storage path is required\n",
      "                      # for outputting the results.\n",
      "                      default='gs://YOUR_OUTPUT_BUCKET/AND_OUTPUT_PREFIX',\n",
      "                      help='Output file to write results to.')\n",
      "  known_args, pipeline_args = parser.parse_known_args(argv)\n",
      "  # pipeline_args.extend([\n",
      "  #     # CHANGE 2/5: (OPTIONAL) Change this to DataflowRunner to\n",
      "  #     # run your pipeline on the Google Cloud Dataflow Service.\n",
      "  #     '--runner=DirectRunner',\n",
      "  #     # CHANGE 3/5: Your project ID is required in order to run your pipeline on\n",
      "  #     # the Google Cloud Dataflow Service.\n",
      "  #     '--project=SET_YOUR_PROJECT_ID_HERE',\n",
      "  #     # CHANGE 4/5: Your Google Cloud Storage path is required for staging local\n",
      "  #     # files.\n",
      "  #     '--staging_location=gs://YOUR_BUCKET_NAME/AND_STAGING_DIRECTORY',\n",
      "  #     # CHANGE 5/5: Your Google Cloud Storage path is required for temporary\n",
      "  #     # files.\n",
      "  #     '--temp_location=gs://YOUR_BUCKET_NAME/AND_TEMP_DIRECTORY',\n",
      "  #     '--job_name=your-wordcount-job',\n",
      "  # ])\n",
      "\n",
      "  # We use the save_main_session option because one or more DoFn's in this\n",
      "  # workflow rely on global context (e.g., a module imported at module level).\n",
      "  pipeline_options = PipelineOptions(pipeline_args)\n",
      "  pipeline_options.view_as(SetupOptions).save_main_session = True\n",
      "  with beam.Pipeline(options=pipeline_options) as p:\n",
      "\n",
      "    # Read the text file[pattern] into a PCollection.\n",
      "    lines = p | ReadFromText(known_args.input)\n",
      "\n",
      "    # Count the occurrences of each word.\n",
      "    counts = (\n",
      "        lines\n",
      "        | 'Split' >> (beam.FlatMap(lambda x: re.findall(r'[A-Za-z\\']+', x))\n",
      "                      .with_output_types(unicode))\n",
      "        | 'PairWithOne' >> beam.Map(lambda x: (x, 1))\n",
      "        | 'GroupAndSum' >> beam.CombinePerKey(sum))\n",
      "\n",
      "    # Format the counts into a PCollection of strings.\n",
      "    def format_result(word_count):\n",
      "      (word, count) = word_count\n",
      "      return '%s: %s' % (word, count)\n",
      "\n",
      "    output = counts | 'Format' >> beam.Map(format_result)\n",
      "\n",
      "    # Write the output using a \"Write\" transform that has side effects.\n",
      "    # pylint: disable=expression-not-assigned\n",
      "    output | WriteToText(known_args.output)\n",
      "\n",
      "\n",
      "if __name__ == '__main__':\n",
      "  logging.getLogger().setLevel(logging.INFO)\n",
      "  run()\n"
     ]
    }
   ],
   "source": [
    "!gsutil cat gs://ml-pipeline-playground/samples/dataflow/wc/wc.py"
   ]
  },
  {
   "cell_type": "markdown",
   "metadata": {},
   "source": [
    "## Example pipeline that uses the component"
   ]
  },
  {
   "cell_type": "code",
   "execution_count": 5,
   "metadata": {},
   "outputs": [],
   "source": [
    "import kfp\n",
    "import kfp.dsl as dsl\n",
    "import json\n",
    "output_file = '{}/wc/wordcount.out'.format(output)\n",
    "@dsl.pipeline(\n",
    "    name='Dataflow launch python pipeline',\n",
    "    description='Dataflow launch python pipeline'\n",
    ")\n",
    "def pipeline(\n",
    "    python_file_path = 'gs://ml-pipeline-playground/samples/dataflow/wc/wc.py',\n",
    "    project_id = project,\n",
    "    staging_dir = output,\n",
    "    requirements_file_path = 'gs://ml-pipeline-playground/samples/dataflow/wc/requirements.txt',\n",
    "    args = json.dumps([\n",
    "        '--output', output_file\n",
    "    ]),\n",
    "    wait_interval = 30\n",
    "):\n",
    "    dataflow_python_op(\n",
    "        python_file_path = python_file_path, \n",
    "        project_id = project_id, \n",
    "        staging_dir = staging_dir, \n",
    "        requirements_file_path = requirements_file_path, \n",
    "        args = args,\n",
    "        wait_interval = wait_interval)"
   ]
  },
  {
   "cell_type": "markdown",
   "metadata": {},
   "source": [
    "## Submit the pipeline for execution"
   ]
  },
  {
   "cell_type": "code",
   "execution_count": 6,
   "metadata": {},
   "outputs": [
    {
     "name": "stderr",
     "output_type": "stream",
     "text": [
      "/usr/local/google/home/jxzheng/miniconda3/lib/python3.7/site-packages/kfp/components/_data_passing.py:133: UserWarning: Missing type name was inferred as \"Integer\" based on the value \"30\".\n",
      "  warnings.warn('Missing type name was inferred as \"{}\" based on the value \"{}\".'.format(type_name, str(value)))\n"
     ]
    },
    {
     "data": {
      "text/html": [
       "Experiment link <a href=\"http://2e2a8a8cc1247a8f-dot-us-west1.notebooks.googleusercontent.com/#/experiments/details/bdc5eb4d-f909-4c11-ab19-20a8d361f4e4\" target=\"_blank\" >here</a>"
      ],
      "text/plain": [
       "<IPython.core.display.HTML object>"
      ]
     },
     "metadata": {},
     "output_type": "display_data"
    },
    {
     "data": {
      "text/html": [
       "Run link <a href=\"http://2e2a8a8cc1247a8f-dot-us-west1.notebooks.googleusercontent.com/#/runs/details/a35e0c1f-07c3-4ce2-bfa0-b9d28b11d3a5\" target=\"_blank\" >here</a>"
      ],
      "text/plain": [
       "<IPython.core.display.HTML object>"
      ]
     },
     "metadata": {},
     "output_type": "display_data"
    },
    {
     "data": {
      "text/plain": [
       "RunPipelineResult(run_id=a35e0c1f-07c3-4ce2-bfa0-b9d28b11d3a5)"
      ]
     },
     "execution_count": 6,
     "metadata": {},
     "output_type": "execute_result"
    }
   ],
   "source": [
    "kfp.Client(host='2e2a8a8cc1247a8f-dot-us-west1.notebooks.googleusercontent.com').create_run_from_pipeline_func(pipeline, arguments={})"
   ]
  },
  {
   "cell_type": "markdown",
   "metadata": {},
   "source": [
    "#### Inspect the output"
   ]
  },
  {
   "cell_type": "code",
   "execution_count": null,
   "metadata": {},
   "outputs": [],
   "source": [
    "!gsutil cat $output_file"
   ]
  },
  {
   "cell_type": "markdown",
   "metadata": {},
   "source": [
    "## References\n",
    "* [Component python code](https://github.com/kubeflow/pipelines/blob/master/components/gcp/container/component_sdk/python/kfp_component/google/dataflow/_launch_python.py)\n",
    "* [Component docker file](https://github.com/kubeflow/pipelines/blob/master/components/gcp/container/Dockerfile)\n",
    "* [Sample notebook](https://github.com/kubeflow/pipelines/blob/master/components/gcp/dataflow/launch_python/sample.ipynb)\n",
    "* [Dataflow Python Quickstart](https://cloud.google.com/dataflow/docs/quickstarts/quickstart-python)"
   ]
  }
 ],
 "metadata": {
  "kernelspec": {
   "display_name": "Python 3",
   "language": "python",
   "name": "python3"
  },
  "language_info": {
   "codemirror_mode": {
    "name": "ipython",
    "version": 3
   },
   "file_extension": ".py",
   "mimetype": "text/x-python",
   "name": "python",
   "nbconvert_exporter": "python",
   "pygments_lexer": "ipython3",
   "version": "3.7.3"
  },
  "pycharm": {
   "stem_cell": {
    "cell_type": "raw",
    "metadata": {
     "collapsed": false
    },
    "source": []
   }
  }
 },
 "nbformat": 4,
 "nbformat_minor": 2
}
