{
 "cells": [
  {
   "cell_type": "code",
   "execution_count": 1,
   "metadata": {},
   "outputs": [],
   "source": [
    "import json\n",
    "import kfp\n",
    "from kfp import components\n",
    "from kfp import dsl\n",
    "import os\n",
    "import subprocess"
   ]
  },
  {
   "cell_type": "code",
   "execution_count": 2,
   "metadata": {},
   "outputs": [],
   "source": [
    "dataproc_create_cluster_op = components.load_component_from_url(\n",
    "    'https://raw.githubusercontent.com/kubeflow/pipelines/e4d9e2b67cf39c5f12b9c1477cae11feb1a74dc7/components/gcp/dataproc/create_cluster/component.yaml')"
   ]
  },
  {
   "cell_type": "code",
   "execution_count": 3,
   "metadata": {},
   "outputs": [],
   "source": [
    "_PYSRC_PREFIX = 'gs://ml-pipeline-playground/dataproc-example'"
   ]
  },
  {
   "cell_type": "code",
   "execution_count": 6,
   "metadata": {},
   "outputs": [],
   "source": [
    "@dsl.pipeline(\n",
    "    name='cluster_creation',\n",
    "    description='test'\n",
    ")\n",
    "def xgb_train_pipeline():\n",
    "  cluster_config = {\n",
    "    \"masterConfig\": {\n",
    "      \"machineTypeUri\": 'n1-standard-2' # This is the machine type for GCE master\n",
    "    },\n",
    "    \"workerConfig\": {\n",
    "      \"machineTypeUri\": 'n1-standard-2' # This is the machine type for GCE worker\n",
    "    },\n",
    "  }\n",
    "  _create_cluster_op = dataproc_create_cluster_op(\n",
    "      project_id='jxzheng-helloworld',\n",
    "      region='us-central1',\n",
    "      name='dataproc-cluster-test',\n",
    "      initialization_actions=[\n",
    "        os.path.join(_PYSRC_PREFIX,\n",
    "                     'initialization_actions.sh'),\n",
    "      ],\n",
    "      cluster={'config': cluster_config},\n",
    "      image_version='1.2'\n",
    "  )\n"
   ]
  },
  {
   "cell_type": "code",
   "execution_count": 7,
   "metadata": {},
   "outputs": [
    {
     "data": {
      "text/html": [
       "Experiment link <a href=\"http://2e2a8a8cc1247a8f-dot-us-west1.notebooks.googleusercontent.com/#/experiments/details/bdc5eb4d-f909-4c11-ab19-20a8d361f4e4\" target=\"_blank\" >here</a>"
      ],
      "text/plain": [
       "<IPython.core.display.HTML object>"
      ]
     },
     "metadata": {},
     "output_type": "display_data"
    },
    {
     "data": {
      "text/html": [
       "Run link <a href=\"http://2e2a8a8cc1247a8f-dot-us-west1.notebooks.googleusercontent.com/#/runs/details/178c273d-cda1-4a5e-afd2-7e8e7dde35f0\" target=\"_blank\" >here</a>"
      ],
      "text/plain": [
       "<IPython.core.display.HTML object>"
      ]
     },
     "metadata": {},
     "output_type": "display_data"
    },
    {
     "data": {
      "text/plain": [
       "RunPipelineResult(run_id=178c273d-cda1-4a5e-afd2-7e8e7dde35f0)"
      ]
     },
     "execution_count": 7,
     "metadata": {},
     "output_type": "execute_result"
    }
   ],
   "source": [
    "kfp.Client('your-end-point.com').create_run_from_pipeline_func(xgb_train_pipeline, arguments={})"
   ]
  },
  {
   "cell_type": "code",
   "execution_count": null,
   "metadata": {},
   "outputs": [],
   "source": []
  }
 ],
 "metadata": {
  "kernelspec": {
   "display_name": "Python 3",
   "language": "python",
   "name": "python3"
  },
  "language_info": {
   "codemirror_mode": {
    "name": "ipython",
    "version": 3
   },
   "file_extension": ".py",
   "mimetype": "text/x-python",
   "name": "python",
   "nbconvert_exporter": "python",
   "pygments_lexer": "ipython3",
   "version": "3.7.3"
  }
 },
 "nbformat": 4,
 "nbformat_minor": 2
}
